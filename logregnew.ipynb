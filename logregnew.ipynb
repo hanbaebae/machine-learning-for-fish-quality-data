{
 "cells": [
  {
   "cell_type": "code",
   "execution_count": 3,
   "metadata": {},
   "outputs": [
    {
     "name": "stdout",
     "output_type": "stream",
     "text": [
      "Using matplotlib backend: <object object at 0x000002A03AEB3290>\n"
     ]
    }
   ],
   "source": [
    "import os\n",
    "import numpy as np\n",
    "import pandas as pd \n",
    "import matplotlib.pyplot as plt \n",
    "import seaborn as sns \n",
    "from sklearn.linear_model import LogisticRegression\n",
    "from sklearn.model_selection import train_test_split\n",
    "from sklearn.metrics import confusion_matrix, accuracy_score\n",
    "%matplotlib\n",
    "%matplotlib inline\n",
    "%matplotlib inline\n"
   ]
  },
  {
   "cell_type": "code",
   "execution_count": 4,
   "metadata": {},
   "outputs": [],
   "source": [
    "import warnings\n",
    "\n",
    "warnings.filterwarnings('ignore')"
   ]
  },
  {
   "cell_type": "code",
   "execution_count": 5,
   "metadata": {},
   "outputs": [
    {
     "name": "stdout",
     "output_type": "stream",
     "text": [
      "      Proses  MQ3  MQ4  MQ5  MQ8  MQ9  MQ135        kelas\n",
      "0         P2  346  355  101  257  102    338     LELE0jam\n",
      "1         P2  329  368  107  269   94    321     LELE0jam\n",
      "2         P2  350  357   93  265  106    340     LELE0jam\n",
      "3         P2  341  376  102  260   97    340     LELE0jam\n",
      "4         P2  359  375   96  255   98    350     LELE0jam\n",
      "...      ...  ...  ...  ...  ...  ...    ...          ...\n",
      "16195     P2  402  366   86  251  103    351  PATIN7,5jam\n",
      "16196     P2  389  363   89  268  104    345  PATIN7,5jam\n",
      "16197     P2  400  363   89  268  106    348  PATIN7,5jam\n",
      "16198     P2  415  360   86  258   95    335  PATIN7,5jam\n",
      "16199     P2  407  377   88  253  101    363  PATIN7,5jam\n",
      "\n",
      "[16200 rows x 8 columns]\n"
     ]
    }
   ],
   "source": [
    "array = []\n",
    "directory = r'.\\tes\\cobi'\n",
    "temp = pd.DataFrame()\n",
    "for filename in os.listdir(directory):\n",
    "    if filename.endswith(\".csv\"):\n",
    "        array = os.path.join(directory, filename)\n",
    "        df = pd.read_csv(array).assign(kelas=filename.split('.')[0])\n",
    "        tes = df.loc[df['Proses'] == 'P2']\n",
    "        sth = temp.append(tes, ignore_index=True)\n",
    "        temp = sth\n",
    "print(temp)"
   ]
  },
  {
   "cell_type": "code",
   "execution_count": 6,
   "metadata": {},
   "outputs": [
    {
     "data": {
      "text/plain": [
       "(count        16200\n",
       " unique          18\n",
       " top       LELE0jam\n",
       " freq           900\n",
       " Name: kelas, dtype: object,\n",
       " array(['LELE0jam', 'LELE10jam', 'LELE2,5jam', 'LELE24jam', 'LELE5jam',\n",
       "        'LELE7,5jam', 'NILA0jam', 'NILA10jam', 'NILA2,5jam', 'NILA24jam',\n",
       "        'NILA5jam', 'NILA7,5jam', 'PATIN0jam', 'PATIN10jam', 'PATIN2,5jam',\n",
       "        'PATIN24jam', 'PATIN5jam', 'PATIN7,5jam'], dtype=object))"
      ]
     },
     "execution_count": 6,
     "metadata": {},
     "output_type": "execute_result"
    }
   ],
   "source": [
    "temp['kelas'].describe(), temp['kelas'].unique()"
   ]
  },
  {
   "cell_type": "code",
   "execution_count": 7,
   "metadata": {},
   "outputs": [
    {
     "data": {
      "text/plain": [
       "<AxesSubplot:>"
      ]
     },
     "execution_count": 7,
     "metadata": {},
     "output_type": "execute_result"
    },
    {
     "data": {
      "image/png": "[encoded data removed]",
      "text/plain": [
       "<Figure size 864x720 with 2 Axes>"
      ]
     },
     "metadata": {
      "needs_background": "light"
     },
     "output_type": "display_data"
    }
   ],
   "source": [
    "corrmat = temp.corr()\n",
    "f,ax = plt.subplots(figsize=(12,10))\n",
    "sns.heatmap(corrmat,vmax=0.8,square=True,annot=True,annot_kws={'size':8})"
   ]
  },
  {
   "cell_type": "code",
   "execution_count": 8,
   "metadata": {},
   "outputs": [],
   "source": [
    "temp = temp[ temp['MQ3'].apply(lambda x: x >300)]\n",
    "temp = temp[ temp['MQ4'].apply(lambda x: x >350)]\n",
    "temp = temp[ temp['MQ5'].apply(lambda x: x >80)]\n",
    "temp = temp[ temp['MQ8'].apply(lambda x: x >250)]\n",
    "temp = temp[ temp['MQ9'].apply(lambda x: x >90)]\n",
    "temp = temp[ temp['MQ135'].apply(lambda x: x >300)]"
   ]
  },
  {
   "cell_type": "code",
   "execution_count": 9,
   "metadata": {},
   "outputs": [],
   "source": [
    "# Extract features\n",
    "Sensor = ['MQ3', 'MQ4', 'MQ5', 'MQ8', 'MQ9', 'MQ135']\n",
    "X = temp.loc[:, Sensor ].values\n",
    "\n",
    "# Extract target i.e. iris species\n",
    "y = temp.loc[:, ['kelas']].values\n",
    "#y = temp.loc[:, temp.columns!='Kelas']\n",
    "#X = tes[['MQ5','MQ135']]\n",
    "#y = tes['kelas']"
   ]
  },
  {
   "cell_type": "code",
   "execution_count": 10,
   "metadata": {},
   "outputs": [],
   "source": [
    "from sklearn.model_selection import train_test_split\n",
    "\n",
    "X_train, X_test, y_train, y_test = train_test_split(X, y, test_size = 0.5, random_state = 0)"
   ]
  },
  {
   "cell_type": "code",
   "execution_count": 11,
   "metadata": {},
   "outputs": [
    {
     "data": {
      "text/html": [
       "<div>\n",
       "<style scoped>\n",
       "    .dataframe tbody tr th:only-of-type {\n",
       "        vertical-align: middle;\n",
       "    }\n",
       "\n",
       "    .dataframe tbody tr th {\n",
       "        vertical-align: top;\n",
       "    }\n",
       "\n",
       "    .dataframe thead th {\n",
       "        text-align: right;\n",
       "    }\n",
       "</style>\n",
       "<table border=\"1\" class=\"dataframe\">\n",
       "  <thead>\n",
       "    <tr style=\"text-align: right;\">\n",
       "      <th></th>\n",
       "      <th>0</th>\n",
       "      <th>1</th>\n",
       "      <th>2</th>\n",
       "      <th>3</th>\n",
       "      <th>4</th>\n",
       "      <th>5</th>\n",
       "    </tr>\n",
       "  </thead>\n",
       "  <tbody>\n",
       "    <tr>\n",
       "      <th>count</th>\n",
       "      <td>6959.000000</td>\n",
       "      <td>6959.000000</td>\n",
       "      <td>6959.000000</td>\n",
       "      <td>6959.000000</td>\n",
       "      <td>6959.000000</td>\n",
       "      <td>6959.000000</td>\n",
       "    </tr>\n",
       "    <tr>\n",
       "      <th>mean</th>\n",
       "      <td>405.322748</td>\n",
       "      <td>377.539014</td>\n",
       "      <td>102.925564</td>\n",
       "      <td>275.086219</td>\n",
       "      <td>112.492168</td>\n",
       "      <td>363.650237</td>\n",
       "    </tr>\n",
       "    <tr>\n",
       "      <th>std</th>\n",
       "      <td>55.372601</td>\n",
       "      <td>15.982120</td>\n",
       "      <td>18.721539</td>\n",
       "      <td>12.225122</td>\n",
       "      <td>17.249414</td>\n",
       "      <td>47.441322</td>\n",
       "    </tr>\n",
       "    <tr>\n",
       "      <th>min</th>\n",
       "      <td>316.000000</td>\n",
       "      <td>351.000000</td>\n",
       "      <td>81.000000</td>\n",
       "      <td>251.000000</td>\n",
       "      <td>91.000000</td>\n",
       "      <td>309.000000</td>\n",
       "    </tr>\n",
       "    <tr>\n",
       "      <th>25%</th>\n",
       "      <td>365.000000</td>\n",
       "      <td>366.000000</td>\n",
       "      <td>90.000000</td>\n",
       "      <td>265.000000</td>\n",
       "      <td>100.000000</td>\n",
       "      <td>335.000000</td>\n",
       "    </tr>\n",
       "    <tr>\n",
       "      <th>50%</th>\n",
       "      <td>392.000000</td>\n",
       "      <td>377.000000</td>\n",
       "      <td>97.000000</td>\n",
       "      <td>275.000000</td>\n",
       "      <td>107.000000</td>\n",
       "      <td>350.000000</td>\n",
       "    </tr>\n",
       "    <tr>\n",
       "      <th>75%</th>\n",
       "      <td>438.000000</td>\n",
       "      <td>387.000000</td>\n",
       "      <td>112.000000</td>\n",
       "      <td>283.000000</td>\n",
       "      <td>122.000000</td>\n",
       "      <td>375.000000</td>\n",
       "    </tr>\n",
       "    <tr>\n",
       "      <th>max</th>\n",
       "      <td>727.000000</td>\n",
       "      <td>570.000000</td>\n",
       "      <td>328.000000</td>\n",
       "      <td>368.000000</td>\n",
       "      <td>286.000000</td>\n",
       "      <td>757.000000</td>\n",
       "    </tr>\n",
       "  </tbody>\n",
       "</table>\n",
       "</div>"
      ],
      "text/plain": [
       "                 0            1            2            3            4  \\\n",
       "count  6959.000000  6959.000000  6959.000000  6959.000000  6959.000000   \n",
       "mean    405.322748   377.539014   102.925564   275.086219   112.492168   \n",
       "std      55.372601    15.982120    18.721539    12.225122    17.249414   \n",
       "min     316.000000   351.000000    81.000000   251.000000    91.000000   \n",
       "25%     365.000000   366.000000    90.000000   265.000000   100.000000   \n",
       "50%     392.000000   377.000000    97.000000   275.000000   107.000000   \n",
       "75%     438.000000   387.000000   112.000000   283.000000   122.000000   \n",
       "max     727.000000   570.000000   328.000000   368.000000   286.000000   \n",
       "\n",
       "                 5  \n",
       "count  6959.000000  \n",
       "mean    363.650237  \n",
       "std      47.441322  \n",
       "min     309.000000  \n",
       "25%     335.000000  \n",
       "50%     350.000000  \n",
       "75%     375.000000  \n",
       "max     757.000000  "
      ]
     },
     "execution_count": 11,
     "metadata": {},
     "output_type": "execute_result"
    }
   ],
   "source": [
    "X = pd.DataFrame(X_train)\n",
    "X.describe()"
   ]
  },
  {
   "cell_type": "code",
   "execution_count": 12,
   "metadata": {},
   "outputs": [],
   "source": [
    "from sklearn.preprocessing import MinMaxScaler\n",
    "\n",
    "scaler = MinMaxScaler()\n",
    "\n",
    "X_train = scaler.fit_transform(X_train)\n",
    "\n",
    "X_test = scaler.transform(X_test)"
   ]
  },
  {
   "cell_type": "code",
   "execution_count": 13,
   "metadata": {},
   "outputs": [
    {
     "data": {
      "text/plain": [
       "array([[0.1459854 , 0.12785388, 0.05668016, 0.26495726, 0.13846154,\n",
       "        0.02232143],\n",
       "       [0.40389294, 0.29680365, 0.1417004 , 0.29059829, 0.10769231,\n",
       "        0.29464286],\n",
       "       [0.29683698, 0.20091324, 0.29554656, 0.23076923, 0.41025641,\n",
       "        0.18080357],\n",
       "       ...,\n",
       "       [0.28467153, 0.19634703, 0.06477733, 0.14529915, 0.06153846,\n",
       "        0.12053571],\n",
       "       [0.12895377, 0.01369863, 0.05668016, 0.23076923, 0.07692308,\n",
       "        0.06919643],\n",
       "       [0.10218978, 0.0456621 , 0.04453441, 0.1965812 , 0.06153846,\n",
       "        0.046875  ]])"
      ]
     },
     "execution_count": 13,
     "metadata": {},
     "output_type": "execute_result"
    }
   ],
   "source": [
    "X_train"
   ]
  },
  {
   "cell_type": "code",
   "execution_count": 14,
   "metadata": {},
   "outputs": [
    {
     "name": "stdout",
     "output_type": "stream",
     "text": [
      "Model accuracy score with linear kernel and C=100.0 : 0.7780\n"
     ]
    }
   ],
   "source": [
    "from sklearn.linear_model import LogisticRegression\n",
    "from sklearn.metrics import accuracy_score\n",
    "from sklearn.model_selection import GridSearchCV\n",
    "\n",
    "logreg=LogisticRegression(C=10, solver='newton-cg')\n",
    "logreg.fit(X_train, y_train)\n",
    "y_pred=logreg.predict(X_test)\n",
    "print('Model accuracy score with linear kernel and C=100.0 : {0:0.4f}'. format(accuracy_score(y_test, y_pred)))"
   ]
  },
  {
   "cell_type": "code",
   "execution_count": 15,
   "metadata": {},
   "outputs": [
    {
     "data": {
      "text/plain": [
       "array(['NILA2,5jam', 'NILA10jam', 'LELE7,5jam', ..., 'PATIN10jam',\n",
       "       'PATIN2,5jam', 'PATIN0jam'], dtype=object)"
      ]
     },
     "execution_count": 15,
     "metadata": {},
     "output_type": "execute_result"
    }
   ],
   "source": [
    "y_pred_train = logreg.predict(X_train)\n",
    "y_pred_train"
   ]
  },
  {
   "cell_type": "code",
   "execution_count": 16,
   "metadata": {},
   "outputs": [
    {
     "name": "stdout",
     "output_type": "stream",
     "text": [
      "Training-set accuracy score: 0.7834\n"
     ]
    }
   ],
   "source": [
    "print('Training-set accuracy score: {0:0.4f}'. format(accuracy_score(y_train, y_pred_train)))"
   ]
  },
  {
   "cell_type": "code",
   "execution_count": 17,
   "metadata": {},
   "outputs": [
    {
     "name": "stdout",
     "output_type": "stream",
     "text": [
      "Training set score: 0.7834\n",
      "Test set score: 0.7780\n"
     ]
    }
   ],
   "source": [
    "print('Training set score: {:.4f}'.format(logreg.score(X_train, y_train)))\n",
    "print('Test set score: {:.4f}'.format(logreg.score(X_test, y_test)))"
   ]
  },
  {
   "cell_type": "code",
   "execution_count": 18,
   "metadata": {},
   "outputs": [
    {
     "name": "stdout",
     "output_type": "stream",
     "text": [
      "              precision    recall  f1-score   support\n",
      "\n",
      "    LELE0jam       0.72      0.92      0.81       435\n",
      "   LELE10jam       0.91      0.96      0.93       440\n",
      "  LELE2,5jam       0.73      0.14      0.24       334\n",
      "   LELE24jam       1.00      0.42      0.59        19\n",
      "    LELE5jam       0.53      0.52      0.52       440\n",
      "  LELE7,5jam       0.96      0.99      0.98       437\n",
      "    NILA0jam       0.78      0.76      0.77       447\n",
      "   NILA10jam       0.98      0.98      0.98       449\n",
      "  NILA2,5jam       0.94      0.99      0.97       452\n",
      "   NILA24jam       1.00      1.00      1.00        71\n",
      "    NILA5jam       0.76      0.75      0.75       459\n",
      "  NILA7,5jam       0.97      0.93      0.95       458\n",
      "   PATIN0jam       0.59      0.65      0.62       452\n",
      "  PATIN10jam       0.79      0.87      0.83       449\n",
      " PATIN2,5jam       0.52      0.50      0.51       468\n",
      "  PATIN24jam       0.96      0.97      0.96       359\n",
      "   PATIN5jam       0.57      0.64      0.60       448\n",
      " PATIN7,5jam       0.72      0.74      0.73       343\n",
      "\n",
      "    accuracy                           0.78      6960\n",
      "   macro avg       0.80      0.76      0.76      6960\n",
      "weighted avg       0.78      0.78      0.77      6960\n",
      "\n"
     ]
    }
   ],
   "source": [
    "from sklearn.metrics import classification_report\n",
    "\n",
    "print(classification_report(y_test, y_pred))"
   ]
  }
 ],
 "metadata": {
  "kernelspec": {
   "display_name": "Python 3.8.0 64-bit",
   "language": "python",
   "name": "python3"
  },
  "language_info": {
   "codemirror_mode": {
    "name": "ipython",
    "version": 3
   },
   "file_extension": ".py",
   "mimetype": "text/x-python",
   "name": "python",
   "nbconvert_exporter": "python",
   "pygments_lexer": "ipython3",
   "version": "3.8.0"
  },
  "orig_nbformat": 4,
  "vscode": {
   "interpreter": {
    "hash": "5ff5ac61870afef2f92de208f8d497b668dbb82d4efec62ea5e0e67a445f7300"
   }
  }
 },
 "nbformat": 4,
 "nbformat_minor": 2
}
