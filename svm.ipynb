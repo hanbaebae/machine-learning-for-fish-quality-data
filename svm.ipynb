{
 "cells": [
  {
   "cell_type": "code",
   "execution_count": 401,
   "metadata": {},
   "outputs": [],
   "source": [
    "import numpy as np \n",
    "import pandas as pd \n",
    "import matplotlib.pyplot as plt \n",
    "import seaborn as sns \n",
    "%matplotlib inline\n"
   ]
  },
  {
   "cell_type": "code",
   "execution_count": 402,
   "metadata": {},
   "outputs": [],
   "source": [
    "import warnings\n",
    "\n",
    "warnings.filterwarnings('ignore')"
   ]
  },
  {
   "cell_type": "code",
   "execution_count": 403,
   "metadata": {},
   "outputs": [
    {
     "name": "stdout",
     "output_type": "stream",
     "text": [
      "     Proses  MQ3  MQ4  MQ5  MQ8  MQ9  MQ135  kelas\n",
      "0        P2  346  355  101  257  102    338    L 0\n",
      "1        P2  329  368  107  269   94    321    L 0\n",
      "2        P2  350  357   93  265  106    340    L 0\n",
      "3        P2  341  376  102  260   97    340    L 0\n",
      "4        P2  359  375   96  255   98    350    L 0\n",
      "...     ...  ...  ...  ...  ...  ...    ...    ...\n",
      "5395     P2  410  396  126  277  135    368  L 7,5\n",
      "5396     P2  425  395  129  290  135    361  L 7,5\n",
      "5397     P2  408  388  127  290  141    373  L 7,5\n",
      "5398     P2  415  393  132  286  139    372  L 7,5\n",
      "5399     P2  410  382  125  290  135    363  L 7,5\n",
      "\n",
      "[5400 rows x 8 columns]\n"
     ]
    }
   ],
   "source": [
    "array = []\n",
    "directory = r'.\\persampel\\lele'\n",
    "temp = pd.DataFrame()\n",
    "for filename in os.listdir(directory):\n",
    "    if filename.endswith(\".csv\"):\n",
    "        array = os.path.join(directory, filename)\n",
    "        df = pd.read_csv(array).assign(kelas=filename.split('.')[0])\n",
    "        tes = df.loc[df['Proses'] == 'P2']\n",
    "        sth = temp.append(tes, ignore_index=True)\n",
    "        temp = sth\n",
    "print(temp)"
   ]
  },
  {
   "cell_type": "code",
   "execution_count": 404,
   "metadata": {},
   "outputs": [
    {
     "data": {
      "text/plain": [
       "(5400, 8)"
      ]
     },
     "execution_count": 404,
     "metadata": {},
     "output_type": "execute_result"
    }
   ],
   "source": [
    "temp.shape"
   ]
  },
  {
   "cell_type": "code",
   "execution_count": 405,
   "metadata": {},
   "outputs": [
    {
     "data": {
      "text/html": [
       "<div>\n",
       "<style scoped>\n",
       "    .dataframe tbody tr th:only-of-type {\n",
       "        vertical-align: middle;\n",
       "    }\n",
       "\n",
       "    .dataframe tbody tr th {\n",
       "        vertical-align: top;\n",
       "    }\n",
       "\n",
       "    .dataframe thead th {\n",
       "        text-align: right;\n",
       "    }\n",
       "</style>\n",
       "<table border=\"1\" class=\"dataframe\">\n",
       "  <thead>\n",
       "    <tr style=\"text-align: right;\">\n",
       "      <th></th>\n",
       "      <th>Proses</th>\n",
       "      <th>MQ3</th>\n",
       "      <th>MQ4</th>\n",
       "      <th>MQ5</th>\n",
       "      <th>MQ8</th>\n",
       "      <th>MQ9</th>\n",
       "      <th>MQ135</th>\n",
       "      <th>kelas</th>\n",
       "    </tr>\n",
       "  </thead>\n",
       "  <tbody>\n",
       "    <tr>\n",
       "      <th>5395</th>\n",
       "      <td>P2</td>\n",
       "      <td>410</td>\n",
       "      <td>396</td>\n",
       "      <td>126</td>\n",
       "      <td>277</td>\n",
       "      <td>135</td>\n",
       "      <td>368</td>\n",
       "      <td>L 7,5</td>\n",
       "    </tr>\n",
       "    <tr>\n",
       "      <th>5396</th>\n",
       "      <td>P2</td>\n",
       "      <td>425</td>\n",
       "      <td>395</td>\n",
       "      <td>129</td>\n",
       "      <td>290</td>\n",
       "      <td>135</td>\n",
       "      <td>361</td>\n",
       "      <td>L 7,5</td>\n",
       "    </tr>\n",
       "    <tr>\n",
       "      <th>5397</th>\n",
       "      <td>P2</td>\n",
       "      <td>408</td>\n",
       "      <td>388</td>\n",
       "      <td>127</td>\n",
       "      <td>290</td>\n",
       "      <td>141</td>\n",
       "      <td>373</td>\n",
       "      <td>L 7,5</td>\n",
       "    </tr>\n",
       "    <tr>\n",
       "      <th>5398</th>\n",
       "      <td>P2</td>\n",
       "      <td>415</td>\n",
       "      <td>393</td>\n",
       "      <td>132</td>\n",
       "      <td>286</td>\n",
       "      <td>139</td>\n",
       "      <td>372</td>\n",
       "      <td>L 7,5</td>\n",
       "    </tr>\n",
       "    <tr>\n",
       "      <th>5399</th>\n",
       "      <td>P2</td>\n",
       "      <td>410</td>\n",
       "      <td>382</td>\n",
       "      <td>125</td>\n",
       "      <td>290</td>\n",
       "      <td>135</td>\n",
       "      <td>363</td>\n",
       "      <td>L 7,5</td>\n",
       "    </tr>\n",
       "  </tbody>\n",
       "</table>\n",
       "</div>"
      ],
      "text/plain": [
       "     Proses  MQ3  MQ4  MQ5  MQ8  MQ9  MQ135  kelas\n",
       "5395     P2  410  396  126  277  135    368  L 7,5\n",
       "5396     P2  425  395  129  290  135    361  L 7,5\n",
       "5397     P2  408  388  127  290  141    373  L 7,5\n",
       "5398     P2  415  393  132  286  139    372  L 7,5\n",
       "5399     P2  410  382  125  290  135    363  L 7,5"
      ]
     },
     "execution_count": 405,
     "metadata": {},
     "output_type": "execute_result"
    }
   ],
   "source": [
    "temp.tail()"
   ]
  },
  {
   "cell_type": "code",
   "execution_count": 406,
   "metadata": {},
   "outputs": [],
   "source": [
    "temp = temp[ temp['MQ135'].apply(lambda x: x >300)]\n",
    "temp = temp[ temp['MQ3'].apply(lambda x: x >300)]\n",
    "temp = temp[ temp['MQ4'].apply(lambda x: x >350)]\n",
    "temp = temp[ temp['MQ5'].apply(lambda x: x >83)]\n",
    "temp = temp[ temp['MQ8'].apply(lambda x: x >250)]\n",
    "temp = temp[ temp['MQ9'].apply(lambda x: x >94)]"
   ]
  },
  {
   "cell_type": "code",
   "execution_count": 407,
   "metadata": {},
   "outputs": [
    {
     "data": {
      "text/plain": [
       "(3645, 8)"
      ]
     },
     "execution_count": 407,
     "metadata": {},
     "output_type": "execute_result"
    }
   ],
   "source": [
    "temp.shape"
   ]
  },
  {
   "cell_type": "code",
   "execution_count": 408,
   "metadata": {},
   "outputs": [
    {
     "data": {
      "text/html": [
       "<div>\n",
       "<style scoped>\n",
       "    .dataframe tbody tr th:only-of-type {\n",
       "        vertical-align: middle;\n",
       "    }\n",
       "\n",
       "    .dataframe tbody tr th {\n",
       "        vertical-align: top;\n",
       "    }\n",
       "\n",
       "    .dataframe thead th {\n",
       "        text-align: right;\n",
       "    }\n",
       "</style>\n",
       "<table border=\"1\" class=\"dataframe\">\n",
       "  <thead>\n",
       "    <tr style=\"text-align: right;\">\n",
       "      <th></th>\n",
       "      <th>Proses</th>\n",
       "      <th>MQ3</th>\n",
       "      <th>MQ4</th>\n",
       "      <th>MQ5</th>\n",
       "      <th>MQ8</th>\n",
       "      <th>MQ9</th>\n",
       "      <th>MQ135</th>\n",
       "      <th>kelas</th>\n",
       "    </tr>\n",
       "  </thead>\n",
       "  <tbody>\n",
       "    <tr>\n",
       "      <th>0</th>\n",
       "      <td>P2</td>\n",
       "      <td>346</td>\n",
       "      <td>355</td>\n",
       "      <td>101</td>\n",
       "      <td>257</td>\n",
       "      <td>102</td>\n",
       "      <td>338</td>\n",
       "      <td>L 0</td>\n",
       "    </tr>\n",
       "    <tr>\n",
       "      <th>2</th>\n",
       "      <td>P2</td>\n",
       "      <td>350</td>\n",
       "      <td>357</td>\n",
       "      <td>93</td>\n",
       "      <td>265</td>\n",
       "      <td>106</td>\n",
       "      <td>340</td>\n",
       "      <td>L 0</td>\n",
       "    </tr>\n",
       "    <tr>\n",
       "      <th>3</th>\n",
       "      <td>P2</td>\n",
       "      <td>341</td>\n",
       "      <td>376</td>\n",
       "      <td>102</td>\n",
       "      <td>260</td>\n",
       "      <td>97</td>\n",
       "      <td>340</td>\n",
       "      <td>L 0</td>\n",
       "    </tr>\n",
       "    <tr>\n",
       "      <th>4</th>\n",
       "      <td>P2</td>\n",
       "      <td>359</td>\n",
       "      <td>375</td>\n",
       "      <td>96</td>\n",
       "      <td>255</td>\n",
       "      <td>98</td>\n",
       "      <td>350</td>\n",
       "      <td>L 0</td>\n",
       "    </tr>\n",
       "    <tr>\n",
       "      <th>5</th>\n",
       "      <td>P2</td>\n",
       "      <td>346</td>\n",
       "      <td>356</td>\n",
       "      <td>97</td>\n",
       "      <td>274</td>\n",
       "      <td>96</td>\n",
       "      <td>320</td>\n",
       "      <td>L 0</td>\n",
       "    </tr>\n",
       "  </tbody>\n",
       "</table>\n",
       "</div>"
      ],
      "text/plain": [
       "  Proses  MQ3  MQ4  MQ5  MQ8  MQ9  MQ135 kelas\n",
       "0     P2  346  355  101  257  102    338   L 0\n",
       "2     P2  350  357   93  265  106    340   L 0\n",
       "3     P2  341  376  102  260   97    340   L 0\n",
       "4     P2  359  375   96  255   98    350   L 0\n",
       "5     P2  346  356   97  274   96    320   L 0"
      ]
     },
     "execution_count": 408,
     "metadata": {},
     "output_type": "execute_result"
    }
   ],
   "source": [
    "temp.head()"
   ]
  },
  {
   "cell_type": "code",
   "execution_count": 409,
   "metadata": {},
   "outputs": [
    {
     "data": {
      "text/html": [
       "<div>\n",
       "<style scoped>\n",
       "    .dataframe tbody tr th:only-of-type {\n",
       "        vertical-align: middle;\n",
       "    }\n",
       "\n",
       "    .dataframe tbody tr th {\n",
       "        vertical-align: top;\n",
       "    }\n",
       "\n",
       "    .dataframe thead th {\n",
       "        text-align: right;\n",
       "    }\n",
       "</style>\n",
       "<table border=\"1\" class=\"dataframe\">\n",
       "  <thead>\n",
       "    <tr style=\"text-align: right;\">\n",
       "      <th></th>\n",
       "      <th>Proses</th>\n",
       "      <th>MQ3</th>\n",
       "      <th>MQ4</th>\n",
       "      <th>MQ5</th>\n",
       "      <th>MQ8</th>\n",
       "      <th>MQ9</th>\n",
       "      <th>MQ135</th>\n",
       "      <th>kelas</th>\n",
       "    </tr>\n",
       "  </thead>\n",
       "  <tbody>\n",
       "    <tr>\n",
       "      <th>5395</th>\n",
       "      <td>P2</td>\n",
       "      <td>410</td>\n",
       "      <td>396</td>\n",
       "      <td>126</td>\n",
       "      <td>277</td>\n",
       "      <td>135</td>\n",
       "      <td>368</td>\n",
       "      <td>L 7,5</td>\n",
       "    </tr>\n",
       "    <tr>\n",
       "      <th>5396</th>\n",
       "      <td>P2</td>\n",
       "      <td>425</td>\n",
       "      <td>395</td>\n",
       "      <td>129</td>\n",
       "      <td>290</td>\n",
       "      <td>135</td>\n",
       "      <td>361</td>\n",
       "      <td>L 7,5</td>\n",
       "    </tr>\n",
       "    <tr>\n",
       "      <th>5397</th>\n",
       "      <td>P2</td>\n",
       "      <td>408</td>\n",
       "      <td>388</td>\n",
       "      <td>127</td>\n",
       "      <td>290</td>\n",
       "      <td>141</td>\n",
       "      <td>373</td>\n",
       "      <td>L 7,5</td>\n",
       "    </tr>\n",
       "    <tr>\n",
       "      <th>5398</th>\n",
       "      <td>P2</td>\n",
       "      <td>415</td>\n",
       "      <td>393</td>\n",
       "      <td>132</td>\n",
       "      <td>286</td>\n",
       "      <td>139</td>\n",
       "      <td>372</td>\n",
       "      <td>L 7,5</td>\n",
       "    </tr>\n",
       "    <tr>\n",
       "      <th>5399</th>\n",
       "      <td>P2</td>\n",
       "      <td>410</td>\n",
       "      <td>382</td>\n",
       "      <td>125</td>\n",
       "      <td>290</td>\n",
       "      <td>135</td>\n",
       "      <td>363</td>\n",
       "      <td>L 7,5</td>\n",
       "    </tr>\n",
       "  </tbody>\n",
       "</table>\n",
       "</div>"
      ],
      "text/plain": [
       "     Proses  MQ3  MQ4  MQ5  MQ8  MQ9  MQ135  kelas\n",
       "5395     P2  410  396  126  277  135    368  L 7,5\n",
       "5396     P2  425  395  129  290  135    361  L 7,5\n",
       "5397     P2  408  388  127  290  141    373  L 7,5\n",
       "5398     P2  415  393  132  286  139    372  L 7,5\n",
       "5399     P2  410  382  125  290  135    363  L 7,5"
      ]
     },
     "execution_count": 409,
     "metadata": {},
     "output_type": "execute_result"
    }
   ],
   "source": [
    "temp.tail()"
   ]
  },
  {
   "cell_type": "code",
   "execution_count": 410,
   "metadata": {},
   "outputs": [
    {
     "data": {
      "text/plain": [
       "Index(['Proses', 'MQ3', 'MQ4', 'MQ5', 'MQ8', 'MQ9', 'MQ135', 'kelas'], dtype='object')"
      ]
     },
     "execution_count": 410,
     "metadata": {},
     "output_type": "execute_result"
    }
   ],
   "source": [
    "col_names = df.columns\n",
    "\n",
    "col_names"
   ]
  },
  {
   "cell_type": "code",
   "execution_count": 411,
   "metadata": {},
   "outputs": [],
   "source": [
    "df.columns = df.columns.str.strip()"
   ]
  },
  {
   "cell_type": "code",
   "execution_count": 412,
   "metadata": {},
   "outputs": [
    {
     "data": {
      "text/plain": [
       "Index(['Proses', 'MQ3', 'MQ4', 'MQ5', 'MQ8', 'MQ9', 'MQ135', 'kelas'], dtype='object')"
      ]
     },
     "execution_count": 412,
     "metadata": {},
     "output_type": "execute_result"
    }
   ],
   "source": [
    "temp.columns"
   ]
  },
  {
   "cell_type": "code",
   "execution_count": 413,
   "metadata": {},
   "outputs": [
    {
     "data": {
      "text/plain": [
       "<AxesSubplot:>"
      ]
     },
     "execution_count": 413,
     "metadata": {},
     "output_type": "execute_result"
    },
    {
     "data": {
      "image/png": "[encoded data removed]",
      "text/plain": [
       "<Figure size 864x720 with 2 Axes>"
      ]
     },
     "metadata": {
      "needs_background": "light"
     },
     "output_type": "display_data"
    }
   ],
   "source": [
    "corrmat = temp.corr()\n",
    "f,ax = plt.subplots(figsize=(12,10))\n",
    "sns.heatmap(corrmat,vmax=0.8,square=True,annot=True,annot_kws={'size':8})"
   ]
  },
  {
   "cell_type": "code",
   "execution_count": 414,
   "metadata": {},
   "outputs": [],
   "source": [
    "# Extract Sensor\n",
    "Sensor = ['MQ3', 'MQ4', 'MQ5', 'MQ8', 'MQ9', 'MQ135']\n",
    "X = temp.loc[:, Sensor ].values\n",
    "\n",
    "# Extract target fish\n",
    "y = temp.loc[:, ['kelas']].values"
   ]
  },
  {
   "cell_type": "code",
   "execution_count": 415,
   "metadata": {},
   "outputs": [
    {
     "data": {
      "text/plain": [
       "array([[346, 355, 101, 257, 102, 338],\n",
       "       [350, 357,  93, 265, 106, 340],\n",
       "       [341, 376, 102, 260,  97, 340],\n",
       "       ...,\n",
       "       [408, 388, 127, 290, 141, 373],\n",
       "       [415, 393, 132, 286, 139, 372],\n",
       "       [410, 382, 125, 290, 135, 363]], dtype=int64)"
      ]
     },
     "execution_count": 415,
     "metadata": {},
     "output_type": "execute_result"
    }
   ],
   "source": [
    "X"
   ]
  },
  {
   "cell_type": "code",
   "execution_count": 416,
   "metadata": {},
   "outputs": [
    {
     "data": {
      "text/plain": [
       "array([['L 0'],\n",
       "       ['L 0'],\n",
       "       ['L 0'],\n",
       "       ...,\n",
       "       ['L 7,5'],\n",
       "       ['L 7,5'],\n",
       "       ['L 7,5']], dtype=object)"
      ]
     },
     "execution_count": 416,
     "metadata": {},
     "output_type": "execute_result"
    }
   ],
   "source": [
    "y"
   ]
  },
  {
   "cell_type": "code",
   "execution_count": 417,
   "metadata": {},
   "outputs": [],
   "source": [
    "from sklearn.model_selection import train_test_split\n",
    "\n",
    "X_train, X_test, y_train, y_test = train_test_split(X, y, test_size = 0.2, random_state = 0)"
   ]
  },
  {
   "cell_type": "code",
   "execution_count": 418,
   "metadata": {},
   "outputs": [
    {
     "data": {
      "text/plain": [
       "((2916, 6), (729, 6))"
      ]
     },
     "execution_count": 418,
     "metadata": {},
     "output_type": "execute_result"
    }
   ],
   "source": [
    "X_train.shape, X_test.shape"
   ]
  },
  {
   "cell_type": "code",
   "execution_count": 419,
   "metadata": {},
   "outputs": [
    {
     "data": {
      "text/plain": [
       "(array([[342, 381,  90, 263,  96, 333],\n",
       "        [341, 370,  94, 272,  96, 321],\n",
       "        [341, 368,  93, 273,  98, 320],\n",
       "        ...,\n",
       "        [351, 354,  86, 279, 105, 330],\n",
       "        [346, 369,  90, 273, 101, 350],\n",
       "        [353, 379,  92, 275,  99, 345]], dtype=int64),\n",
       " array([['L 2,5'],\n",
       "        ['L 2,5'],\n",
       "        ['L 2,5'],\n",
       "        ...,\n",
       "        ['L 2,5'],\n",
       "        ['L 5'],\n",
       "        ['L 5']], dtype=object))"
      ]
     },
     "execution_count": 419,
     "metadata": {},
     "output_type": "execute_result"
    }
   ],
   "source": [
    "X_train, y_train"
   ]
  },
  {
   "cell_type": "code",
   "execution_count": 420,
   "metadata": {},
   "outputs": [
    {
     "data": {
      "text/html": [
       "<div>\n",
       "<style scoped>\n",
       "    .dataframe tbody tr th:only-of-type {\n",
       "        vertical-align: middle;\n",
       "    }\n",
       "\n",
       "    .dataframe tbody tr th {\n",
       "        vertical-align: top;\n",
       "    }\n",
       "\n",
       "    .dataframe thead th {\n",
       "        text-align: right;\n",
       "    }\n",
       "</style>\n",
       "<table border=\"1\" class=\"dataframe\">\n",
       "  <thead>\n",
       "    <tr style=\"text-align: right;\">\n",
       "      <th></th>\n",
       "      <th>0</th>\n",
       "      <th>1</th>\n",
       "      <th>2</th>\n",
       "      <th>3</th>\n",
       "      <th>4</th>\n",
       "      <th>5</th>\n",
       "    </tr>\n",
       "  </thead>\n",
       "  <tbody>\n",
       "    <tr>\n",
       "      <th>count</th>\n",
       "      <td>2916.000000</td>\n",
       "      <td>2916.000000</td>\n",
       "      <td>2916.000000</td>\n",
       "      <td>2916.000000</td>\n",
       "      <td>2916.000000</td>\n",
       "      <td>2916.000000</td>\n",
       "    </tr>\n",
       "    <tr>\n",
       "      <th>mean</th>\n",
       "      <td>393.698560</td>\n",
       "      <td>375.824417</td>\n",
       "      <td>103.188957</td>\n",
       "      <td>273.686214</td>\n",
       "      <td>116.735254</td>\n",
       "      <td>353.325789</td>\n",
       "    </tr>\n",
       "    <tr>\n",
       "      <th>std</th>\n",
       "      <td>48.266563</td>\n",
       "      <td>14.312394</td>\n",
       "      <td>18.548836</td>\n",
       "      <td>9.988499</td>\n",
       "      <td>21.303698</td>\n",
       "      <td>24.408758</td>\n",
       "    </tr>\n",
       "    <tr>\n",
       "      <th>min</th>\n",
       "      <td>316.000000</td>\n",
       "      <td>352.000000</td>\n",
       "      <td>84.000000</td>\n",
       "      <td>251.000000</td>\n",
       "      <td>95.000000</td>\n",
       "      <td>310.000000</td>\n",
       "    </tr>\n",
       "    <tr>\n",
       "      <th>25%</th>\n",
       "      <td>349.000000</td>\n",
       "      <td>364.000000</td>\n",
       "      <td>89.000000</td>\n",
       "      <td>265.000000</td>\n",
       "      <td>101.000000</td>\n",
       "      <td>333.000000</td>\n",
       "    </tr>\n",
       "    <tr>\n",
       "      <th>50%</th>\n",
       "      <td>376.000000</td>\n",
       "      <td>376.000000</td>\n",
       "      <td>96.000000</td>\n",
       "      <td>273.000000</td>\n",
       "      <td>108.000000</td>\n",
       "      <td>356.000000</td>\n",
       "    </tr>\n",
       "    <tr>\n",
       "      <th>75%</th>\n",
       "      <td>439.000000</td>\n",
       "      <td>385.000000</td>\n",
       "      <td>119.000000</td>\n",
       "      <td>281.000000</td>\n",
       "      <td>127.250000</td>\n",
       "      <td>373.000000</td>\n",
       "    </tr>\n",
       "    <tr>\n",
       "      <th>max</th>\n",
       "      <td>510.000000</td>\n",
       "      <td>435.000000</td>\n",
       "      <td>174.000000</td>\n",
       "      <td>308.000000</td>\n",
       "      <td>192.000000</td>\n",
       "      <td>567.000000</td>\n",
       "    </tr>\n",
       "  </tbody>\n",
       "</table>\n",
       "</div>"
      ],
      "text/plain": [
       "                 0            1            2            3            4  \\\n",
       "count  2916.000000  2916.000000  2916.000000  2916.000000  2916.000000   \n",
       "mean    393.698560   375.824417   103.188957   273.686214   116.735254   \n",
       "std      48.266563    14.312394    18.548836     9.988499    21.303698   \n",
       "min     316.000000   352.000000    84.000000   251.000000    95.000000   \n",
       "25%     349.000000   364.000000    89.000000   265.000000   101.000000   \n",
       "50%     376.000000   376.000000    96.000000   273.000000   108.000000   \n",
       "75%     439.000000   385.000000   119.000000   281.000000   127.250000   \n",
       "max     510.000000   435.000000   174.000000   308.000000   192.000000   \n",
       "\n",
       "                 5  \n",
       "count  2916.000000  \n",
       "mean    353.325789  \n",
       "std      24.408758  \n",
       "min     310.000000  \n",
       "25%     333.000000  \n",
       "50%     356.000000  \n",
       "75%     373.000000  \n",
       "max     567.000000  "
      ]
     },
     "execution_count": 420,
     "metadata": {},
     "output_type": "execute_result"
    }
   ],
   "source": [
    "X = pd.DataFrame(X_train)\n",
    "X.describe()"
   ]
  },
  {
   "cell_type": "code",
   "execution_count": 421,
   "metadata": {},
   "outputs": [],
   "source": [
    "cols = X.columns"
   ]
  },
  {
   "cell_type": "code",
   "execution_count": 422,
   "metadata": {},
   "outputs": [],
   "source": [
    "# import SVC classifier\n",
    "from sklearn.svm import SVC\n",
    "\n",
    "\n",
    "# import metrics to compute accuracy\n",
    "from sklearn.metrics import accuracy_score\n",
    "\n",
    "\n",
    "# instantiate classifier with default hyperparameters\n",
    "#svc=SVC() \n",
    "\n",
    "# fit classifier to training set\n",
    "#svc.fit(X_train,y_train)\n",
    "\n",
    "# make predictions on test set\n",
    "#y_pred=svc.predict(X_test)\n",
    "\n",
    "# compute and print accuracy score\n",
    "#print('Model accuracy score with default hyperparameters: {0:0.4f}'. format(accuracy_score(y_test, y_pred)))"
   ]
  },
  {
   "cell_type": "code",
   "execution_count": 423,
   "metadata": {},
   "outputs": [],
   "source": [
    "# instantiate classifier with rbf kernel and C=100\n",
    "#svc=SVC(C=100.0) \n",
    "\n",
    "# fit classifier to training set\n",
    "#svc.fit(X_train,y_train)\n",
    "\n",
    "# make predictions on test set\n",
    "#y_pred=svc.predict(X_test)\n",
    "\n",
    "# compute and print accuracy score\n",
    "#print('Model accuracy score with rbf kernel and C=100.0 : {0:0.4f}'. format(accuracy_score(y_test, y_pred)))"
   ]
  },
  {
   "cell_type": "code",
   "execution_count": 424,
   "metadata": {},
   "outputs": [],
   "source": [
    "# instantiate classifier with rbf kernel and C=...\n",
    "#svc=SVC(C=1000000.0) \n",
    "\n",
    "# fit classifier to training set\n",
    "#svc.fit(X_train,y_train)\n",
    "\n",
    "# make predictions on test set\n",
    "#y_pred_test=svc.predict(X_test)\n",
    "\n",
    "# compute and print accuracy score\n",
    "#print('Model accuracy score with rbf kernel and C=1000.0 : {0:0.4f}'. format(accuracy_score(y_test, y_pred)))"
   ]
  },
  {
   "cell_type": "code",
   "execution_count": 425,
   "metadata": {},
   "outputs": [],
   "source": [
    "# instantiate classifier with linear kernel and C=1.0\n",
    "#linear_svc=SVC(kernel='poly', C=10000.0, verbose=True) \n",
    "\n",
    "\n",
    "# fit classifier to training set\n",
    "#linear_svc.fit(X_train,y_train)\n",
    "\n",
    "# make predictions on test set\n",
    "#y_pred_test=linear_svc.predict(X_test)\n",
    "\n",
    "# compute and print accuracy score\n",
    "#print('Model accuracy score with linear kernel and C=1.0 : {0:0.4f}'. format(accuracy_score(y_test, y_pred_test)))"
   ]
  },
  {
   "cell_type": "code",
   "execution_count": 426,
   "metadata": {},
   "outputs": [
    {
     "name": "stdout",
     "output_type": "stream",
     "text": [
      "Model accuracy score with linear kernel and C=100.0 : 0.9396\n"
     ]
    }
   ],
   "source": [
    "# instantiate classifier with linear kernel and C=100.0\n",
    "#linear_svc100=SVC(kernel='poly', C=100000.0)\n",
    "svc=SVC(kernel ='rbf',C=100.0,) \n",
    "#linear_svc100=SVC(kernel='poly', C=100000.0)\n",
    "\n",
    "# fit classifier to training set\n",
    "svc.fit(X_train, y_train)\n",
    "\n",
    "# make predictions on test set\n",
    "y_pred_test=svc.predict(X_test)\n",
    "\n",
    "# compute and print accuracy score\n",
    "print('Model accuracy score with linear kernel and C=100.0 : {0:0.4f}'. format(accuracy_score(y_test, y_pred_test)))"
   ]
  },
  {
   "cell_type": "code",
   "execution_count": 427,
   "metadata": {},
   "outputs": [],
   "source": [
    "# instantiate classifier with linear kernel and C=1000.0\n",
    "#linear_svc1000=SVC(kernel='linear', C=100.0)\n",
    "\n",
    "\n",
    "# fit classifier to training set\n",
    "#linear_svc1000.fit(X_train, y_train)\n",
    "\n",
    "\n",
    "# make predictions on test set\n",
    "#y_pred_test=linear_svc1000.predict(X_test)\n",
    "\n",
    "\n",
    "# compute and print accuracy score\n",
    "#print('Model accuracy score with linear kernel and C=1000.0 : {0:0.4f}'. format(accuracy_score(y_test, y_pred)))"
   ]
  },
  {
   "cell_type": "code",
   "execution_count": 428,
   "metadata": {},
   "outputs": [
    {
     "data": {
      "text/plain": [
       "array(['L 0', 'L 2,5', 'L 2,5', ..., 'L 5', 'L 5', 'L 5'], dtype=object)"
      ]
     },
     "execution_count": 428,
     "metadata": {},
     "output_type": "execute_result"
    }
   ],
   "source": [
    "y_pred_train = svc.predict(X_train)\n",
    "\n",
    "y_pred_train"
   ]
  },
  {
   "cell_type": "code",
   "execution_count": 429,
   "metadata": {},
   "outputs": [
    {
     "name": "stdout",
     "output_type": "stream",
     "text": [
      "Training-set accuracy score: 0.9259\n"
     ]
    }
   ],
   "source": [
    "print('Training-set accuracy score: {0:0.4f}'. format(accuracy_score(y_train, y_pred_train)))"
   ]
  },
  {
   "cell_type": "code",
   "execution_count": 430,
   "metadata": {},
   "outputs": [],
   "source": [
    "#print('Training set score: {:.4f}'.format(linear_svc100.score(X_train, y_train)))\n",
    "#print('Test set score: {:.4f}'.format(linear_svc100.score(X_test, y_test)))"
   ]
  },
  {
   "cell_type": "code",
   "execution_count": 431,
   "metadata": {},
   "outputs": [
    {
     "name": "stdout",
     "output_type": "stream",
     "text": [
      "Training set score: 0.9259\n",
      "Test set score: 0.9396\n"
     ]
    }
   ],
   "source": [
    "print('Training set score: {:.4f}'.format(svc.score(X_train, y_train)))\n",
    "print('Test set score: {:.4f}'.format(svc.score(X_test, y_test)))"
   ]
  },
  {
   "cell_type": "code",
   "execution_count": 432,
   "metadata": {},
   "outputs": [
    {
     "name": "stdout",
     "output_type": "stream",
     "text": [
      "Confusion matrix\n",
      "\n",
      " [[101   0   4  11   0]\n",
      " [  0 195   0   0   0]\n",
      " [  5   0  55  19   0]\n",
      " [  4   0   1 157   0]\n",
      " [  0   0   0   0 177]]\n",
      "\n",
      "True Positives(TP) =  101\n",
      "\n",
      "True Negatives(TN) =  195\n",
      "\n",
      "False Positives(FP) =  0\n",
      "\n",
      "False Negatives(FN) =  0\n"
     ]
    }
   ],
   "source": [
    "from sklearn.metrics import confusion_matrix\n",
    "\n",
    "cm = confusion_matrix(y_test, y_pred_test)\n",
    "\n",
    "print('Confusion matrix\\n\\n', cm)\n",
    "\n",
    "print('\\nTrue Positives(TP) = ', cm[0,0])\n",
    "\n",
    "print('\\nTrue Negatives(TN) = ', cm[1,1])\n",
    "\n",
    "print('\\nFalse Positives(FP) = ', cm[0,1])\n",
    "\n",
    "print('\\nFalse Negatives(FN) = ', cm[1,0])\n"
   ]
  },
  {
   "cell_type": "code",
   "execution_count": 433,
   "metadata": {},
   "outputs": [
    {
     "data": {
      "text/plain": [
       "<Figure size 138240x77760 with 0 Axes>"
      ]
     },
     "metadata": {},
     "output_type": "display_data"
    },
    {
     "data": {
      "image/png": "[encoded data removed]",
      "text/plain": [
       "<Figure size 432x288 with 2 Axes>"
      ]
     },
     "metadata": {
      "needs_background": "light"
     },
     "output_type": "display_data"
    }
   ],
   "source": [
    "from sklearn.metrics import plot_confusion_matrix\n",
    "from sklearn.ensemble import GradientBoostingClassifier\n",
    "\n",
    "plt.figure(figsize=(1920,1080))\n",
    "clf = GradientBoostingClassifier(random_state=0)\n",
    "clf.fit(X_train, y_train)\n",
    "plot_confusion_matrix(clf, X_test, y_test, cmap=plt.cm.Blues)\n",
    "plt.title('Confusion matrix')\n",
    "plt.show()"
   ]
  },
  {
   "cell_type": "code",
   "execution_count": 434,
   "metadata": {},
   "outputs": [
    {
     "name": "stdout",
     "output_type": "stream",
     "text": [
      "              precision    recall  f1-score   support\n",
      "\n",
      "         L 0       0.92      0.87      0.89       116\n",
      "        L 10       1.00      1.00      1.00       195\n",
      "       L 2,5       0.92      0.70      0.79        79\n",
      "         L 5       0.84      0.97      0.90       162\n",
      "       L 7,5       1.00      1.00      1.00       177\n",
      "\n",
      "    accuracy                           0.94       729\n",
      "   macro avg       0.93      0.91      0.92       729\n",
      "weighted avg       0.94      0.94      0.94       729\n",
      "\n"
     ]
    }
   ],
   "source": [
    "from sklearn.metrics import classification_report\n",
    "\n",
    "print(classification_report(y_test, y_pred_test))"
   ]
  },
  {
   "cell_type": "code",
   "execution_count": null,
   "metadata": {},
   "outputs": [],
   "source": []
  }
 ],
 "metadata": {
  "kernelspec": {
   "display_name": "Python 3.8.0 64-bit",
   "language": "python",
   "name": "python3"
  },
  "language_info": {
   "codemirror_mode": {
    "name": "ipython",
    "version": 3
   },
   "file_extension": ".py",
   "mimetype": "text/x-python",
   "name": "python",
   "nbconvert_exporter": "python",
   "pygments_lexer": "ipython3",
   "version": "3.8.0"
  },
  "orig_nbformat": 4,
  "vscode": {
   "interpreter": {
    "hash": "5ff5ac61870afef2f92de208f8d497b668dbb82d4efec62ea5e0e67a445f7300"
   }
  }
 },
 "nbformat": 4,
 "nbformat_minor": 2
}
